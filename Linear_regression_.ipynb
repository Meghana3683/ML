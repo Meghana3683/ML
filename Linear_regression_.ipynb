{
  "nbformat": 4,
  "nbformat_minor": 0,
  "metadata": {
    "colab": {
      "name": " Linear regression .ipynb",
      "provenance": [],
      "collapsed_sections": [],
      "authorship_tag": "ABX9TyMnTfqBl7Lh+tgMtCmA+/cY",
      "include_colab_link": true
    },
    "kernelspec": {
      "name": "python3",
      "display_name": "Python 3"
    },
    "language_info": {
      "name": "python"
    }
  },
  "cells": [
    {
      "cell_type": "markdown",
      "metadata": {
        "id": "view-in-github",
        "colab_type": "text"
      },
      "source": [
        "<a href=\"https://colab.research.google.com/github/Meghana3683/ML/blob/main/Linear_regression_.ipynb\" target=\"_parent\"><img src=\"https://colab.research.google.com/assets/colab-badge.svg\" alt=\"Open In Colab\"/></a>"
      ]
    },
    {
      "cell_type": "code",
      "metadata": {
        "id": "6iOEQ6DGoSN9"
      },
      "source": [
        "%tensorflow_version 2.x"
      ],
      "execution_count": null,
      "outputs": []
    },
    {
      "cell_type": "code",
      "metadata": {
        "colab": {
          "base_uri": "https://localhost:8080/"
        },
        "id": "2AE2eYztxtYW",
        "outputId": "62a49faa-406b-4c4a-f108-f49f7a7eaf03"
      },
      "source": [
        "import tensorflow as tf # now import the tensor flow module \n",
        "print(tf.version)       #make sure the version is 2.x"
      ],
      "execution_count": null,
      "outputs": [
        {
          "output_type": "stream",
          "name": "stdout",
          "text": [
            "<module 'tensorflow._api.v2.version' from '/usr/local/lib/python3.7/dist-packages/tensorflow/_api/v2/version/__init__.py'>\n"
          ]
        }
      ]
    },
    {
      "cell_type": "markdown",
      "metadata": {
        "id": "PKMsuhO4zjxN"
      },
      "source": [
        "Each tensor has datatype nad shape  eg, float32,int32,string and others . \n",
        "shape : Reprensents the dimension of data . "
      ]
    },
    {
      "cell_type": "code",
      "metadata": {
        "id": "iLKmjjxGE8WU"
      },
      "source": [
        "#creating tensors\n",
        "\n",
        "string=tf.Variable(\"this is string\",tf.string)\n",
        "number = tf.Variable(324,tf.int16)\n",
        "floating=tf.Variable(3.567,tf.float64)"
      ],
      "execution_count": null,
      "outputs": []
    },
    {
      "cell_type": "markdown",
      "metadata": {
        "id": "bHs9jfgoGFGd"
      },
      "source": [
        "Rank/degree of tensors :\n",
        "\n",
        "another word for rank is degree ,  they simply mean the number of dimensions involved in the tensor . what we created above is a tensir of rank 0(scalar)"
      ]
    },
    {
      "cell_type": "code",
      "metadata": {
        "id": "OLIeFHmKG3AJ"
      },
      "source": [
        "# tensors of higher rank /degree\n",
        "\n",
        "rank1_tensor = tf.Variable([\"tensor\",\"ok\",\"test\"],tf.string)    # rank1 tensor (only one list)\n",
        "rank2_tensor = tf.Variable([[\"test\",\"yes\"],[\"test\",\"no\"]],tf.string)  # rank2 tensor (list inside a list) and each list should have equal numbers."
      ],
      "execution_count": null,
      "outputs": []
    },
    {
      "cell_type": "code",
      "metadata": {
        "colab": {
          "base_uri": "https://localhost:8080/"
        },
        "id": "_r_XQg57HtCp",
        "outputId": "11721d33-119f-4b70-f87d-7646cf2d2d69"
      },
      "source": [
        "tf.rank(rank2_tensor)  #to find rank we use function .rank() , we get output as numpy=2> that means rank 2"
      ],
      "execution_count": null,
      "outputs": [
        {
          "output_type": "execute_result",
          "data": {
            "text/plain": [
              "<tf.Tensor: shape=(), dtype=int32, numpy=2>"
            ]
          },
          "metadata": {},
          "execution_count": 11
        }
      ]
    },
    {
      "cell_type": "code",
      "metadata": {
        "colab": {
          "base_uri": "https://localhost:8080/"
        },
        "id": "Wdq63vMDIFUi",
        "outputId": "13d9fd93-0cae-4985-c688-273cf6249c88"
      },
      "source": [
        "tf.rank(rank1_tensor)   #numpy=1> it means rank 1."
      ],
      "execution_count": null,
      "outputs": [
        {
          "output_type": "execute_result",
          "data": {
            "text/plain": [
              "<tf.Tensor: shape=(), dtype=int32, numpy=1>"
            ]
          },
          "metadata": {},
          "execution_count": 12
        }
      ]
    },
    {
      "cell_type": "code",
      "metadata": {
        "colab": {
          "base_uri": "https://localhost:8080/"
        },
        "id": "1CNKF0_mISGw",
        "outputId": "45b5b7d7-258e-45e2-9c09-5f7c4cac3e75"
      },
      "source": [
        "tf.rank(number)    #numpy=0>  it means rank 0"
      ],
      "execution_count": null,
      "outputs": [
        {
          "output_type": "execute_result",
          "data": {
            "text/plain": [
              "<tf.Tensor: shape=(), dtype=int32, numpy=0>"
            ]
          },
          "metadata": {},
          "execution_count": 13
        }
      ]
    },
    {
      "cell_type": "markdown",
      "metadata": {
        "id": "cJVCBpDbIbI0"
      },
      "source": [
        "shape of tensors \n",
        "\n",
        "shape of a tensor tells the amount of elements that exist in each dimension . tensorflow will determine the shape of a tensor but sometimes it is unkonown."
      ]
    },
    {
      "cell_type": "code",
      "metadata": {
        "colab": {
          "base_uri": "https://localhost:8080/"
        },
        "id": "4gRHVowBI9LL",
        "outputId": "e5651fbf-e488-4451-ebf4-2afa62ff2679"
      },
      "source": [
        "rank2_tensor.shape # to get shape we use the shape attribute."
      ],
      "execution_count": null,
      "outputs": [
        {
          "output_type": "execute_result",
          "data": {
            "text/plain": [
              "TensorShape([2, 2])"
            ]
          },
          "metadata": {},
          "execution_count": 15
        }
      ]
    },
    {
      "cell_type": "code",
      "metadata": {
        "colab": {
          "base_uri": "https://localhost:8080/"
        },
        "id": "fyzuUU50JPDe",
        "outputId": "b073375c-5fb8-4b48-88b9-11b6956f72ce"
      },
      "source": [
        "rank1_tensor.shape"
      ],
      "execution_count": null,
      "outputs": [
        {
          "output_type": "execute_result",
          "data": {
            "text/plain": [
              "TensorShape([3])"
            ]
          },
          "metadata": {},
          "execution_count": 16
        }
      ]
    },
    {
      "cell_type": "markdown",
      "metadata": {
        "id": "U188Io7eLWOa"
      },
      "source": [
        "changing shape "
      ]
    },
    {
      "cell_type": "code",
      "metadata": {
        "colab": {
          "base_uri": "https://localhost:8080/"
        },
        "id": "TYNZeZhOLbVH",
        "outputId": "2c6bf0c7-12d0-4021-c905-1250d4b48a63"
      },
      "source": [
        "tensor1=tf.ones([1,2,3]) #tf.ones() creates a shape [1,2,3] tensor full of ones .\n",
        "print(tensor1)\n",
        "tensor2=tf.reshape(tensor1,[2,3,1])  #reshape existing shape to [2 3 1]\n",
        "print(tensor2)\n",
        "tensor3=tf.reshape(tesnor2,[3,-1])  # -1 tells the tensor to calculate the size of the dimension in that place.\n",
        "print(tensor3)"
      ],
      "execution_count": null,
      "outputs": [
        {
          "output_type": "stream",
          "name": "stdout",
          "text": [
            "tf.Tensor(\n",
            "[[[1. 1. 1.]\n",
            "  [1. 1. 1.]]], shape=(1, 2, 3), dtype=float32)\n",
            "tf.Tensor(\n",
            "[[[1.]\n",
            "  [1.]\n",
            "  [1.]]\n",
            "\n",
            " [[1.]\n",
            "  [1.]\n",
            "  [1.]]], shape=(2, 3, 1), dtype=float32)\n",
            "tf.Tensor(\n",
            "[[1. 1.]\n",
            " [1. 1.]\n",
            " [1. 1.]], shape=(3, 2), dtype=float32)\n"
          ]
        }
      ]
    },
    {
      "cell_type": "markdown",
      "metadata": {
        "id": "dGByPPpENIjD"
      },
      "source": [
        "types of tensors \n",
        "\n",
        "1] variable \n",
        "2] constant\n",
        "3] placeholder\n",
        "4] sparse tensor\n",
        "\n",
        "with exception of variable all of these tensors are immuatble."
      ]
    },
    {
      "cell_type": "code",
      "metadata": {
        "id": "hqkWPcb9Npvi"
      },
      "source": [
        "Evaluating tensors \n",
        "\n",
        "there will be sometimes troughout this guide that we need to eavluate a tensor (get its avlue )"
      ],
      "execution_count": null,
      "outputs": []
    },
    {
      "cell_type": "code",
      "metadata": {
        "id": "y8QdmduoOJr0"
      },
      "source": [
        "with tf.session() as sess  # creates a session using the default graph\n",
        "tensor.eval() #tensor will of course be the name of our tensor."
      ],
      "execution_count": null,
      "outputs": []
    },
    {
      "cell_type": "code",
      "metadata": {
        "colab": {
          "base_uri": "https://localhost:8080/"
        },
        "id": "VQNvFM1zOsSi",
        "outputId": "6faa0fa3-846e-4f9c-dab6-a4aa4927dfe5"
      },
      "source": [
        "%tensorflow_version 2.x\n",
        "import tensorflow as tf # now import the tensor flow module \n",
        "print(tf.version)       #make sure the version is 2.x\n",
        "\n",
        "t=tf.zeros([5,5,5])\n",
        "print(t)\n",
        "t=tf.reshape(t,[125])\n",
        "print(t)"
      ],
      "execution_count": null,
      "outputs": [
        {
          "output_type": "stream",
          "name": "stdout",
          "text": [
            "<module 'tensorflow._api.v2.version' from '/usr/local/lib/python3.7/dist-packages/tensorflow/_api/v2/version/__init__.py'>\n",
            "tf.Tensor(\n",
            "[[[0. 0. 0. 0. 0.]\n",
            "  [0. 0. 0. 0. 0.]\n",
            "  [0. 0. 0. 0. 0.]\n",
            "  [0. 0. 0. 0. 0.]\n",
            "  [0. 0. 0. 0. 0.]]\n",
            "\n",
            " [[0. 0. 0. 0. 0.]\n",
            "  [0. 0. 0. 0. 0.]\n",
            "  [0. 0. 0. 0. 0.]\n",
            "  [0. 0. 0. 0. 0.]\n",
            "  [0. 0. 0. 0. 0.]]\n",
            "\n",
            " [[0. 0. 0. 0. 0.]\n",
            "  [0. 0. 0. 0. 0.]\n",
            "  [0. 0. 0. 0. 0.]\n",
            "  [0. 0. 0. 0. 0.]\n",
            "  [0. 0. 0. 0. 0.]]\n",
            "\n",
            " [[0. 0. 0. 0. 0.]\n",
            "  [0. 0. 0. 0. 0.]\n",
            "  [0. 0. 0. 0. 0.]\n",
            "  [0. 0. 0. 0. 0.]\n",
            "  [0. 0. 0. 0. 0.]]\n",
            "\n",
            " [[0. 0. 0. 0. 0.]\n",
            "  [0. 0. 0. 0. 0.]\n",
            "  [0. 0. 0. 0. 0.]\n",
            "  [0. 0. 0. 0. 0.]\n",
            "  [0. 0. 0. 0. 0.]]], shape=(5, 5, 5), dtype=float32)\n",
            "tf.Tensor(\n",
            "[0. 0. 0. 0. 0. 0. 0. 0. 0. 0. 0. 0. 0. 0. 0. 0. 0. 0. 0. 0. 0. 0. 0. 0.\n",
            " 0. 0. 0. 0. 0. 0. 0. 0. 0. 0. 0. 0. 0. 0. 0. 0. 0. 0. 0. 0. 0. 0. 0. 0.\n",
            " 0. 0. 0. 0. 0. 0. 0. 0. 0. 0. 0. 0. 0. 0. 0. 0. 0. 0. 0. 0. 0. 0. 0. 0.\n",
            " 0. 0. 0. 0. 0. 0. 0. 0. 0. 0. 0. 0. 0. 0. 0. 0. 0. 0. 0. 0. 0. 0. 0. 0.\n",
            " 0. 0. 0. 0. 0. 0. 0. 0. 0. 0. 0. 0. 0. 0. 0. 0. 0. 0. 0. 0. 0. 0. 0. 0.\n",
            " 0. 0. 0. 0. 0.], shape=(125,), dtype=float32)\n"
          ]
        }
      ]
    },
    {
      "cell_type": "code",
      "metadata": {
        "colab": {
          "base_uri": "https://localhost:8080/"
        },
        "id": "vI9Lg1x4PtJH",
        "outputId": "6046a9bc-ed41-40c3-c580-d64402db8078"
      },
      "source": [
        "t=tf.ones([3,2,2])\n",
        "print(t)\n",
        "t1=tf.reshape(t,[6,-1])\n",
        "print(t1)"
      ],
      "execution_count": null,
      "outputs": [
        {
          "output_type": "stream",
          "name": "stdout",
          "text": [
            "tf.Tensor(\n",
            "[[[1. 1.]\n",
            "  [1. 1.]]\n",
            "\n",
            " [[1. 1.]\n",
            "  [1. 1.]]\n",
            "\n",
            " [[1. 1.]\n",
            "  [1. 1.]]], shape=(3, 2, 2), dtype=float32)\n",
            "tf.Tensor(\n",
            "[[1. 1.]\n",
            " [1. 1.]\n",
            " [1. 1.]\n",
            " [1. 1.]\n",
            " [1. 1.]\n",
            " [1. 1.]], shape=(6, 2), dtype=float32)\n"
          ]
        }
      ]
    },
    {
      "cell_type": "markdown",
      "metadata": {
        "id": "LsyFbj-0QSfc"
      },
      "source": [
        "TENSORFLOW CORE LEARNING ALGORITHMS \n",
        "\n",
        "The algorithms we will focus on include :\n",
        "\n",
        "-> Linear Regression \n",
        "-> Classification \n",
        "-> Clustering \n",
        "-> Hidden Markov Models"
      ]
    },
    {
      "cell_type": "markdown",
      "metadata": {
        "id": "brSt3SHIRGyM"
      },
      "source": [
        "LINEAR REGRESSION \n",
        "we use linear regression when our data points are realted co linearly (/)"
      ]
    },
    {
      "cell_type": "markdown",
      "metadata": {
        "id": "QwKsSjgLUUMO"
      },
      "source": [
        "SETUP and IMPORTS:\n",
        "\n",
        "before we get started we must install sklen and import the following modules "
      ]
    },
    {
      "cell_type": "code",
      "metadata": {
        "id": "1iK3grDFUkd6"
      },
      "source": [
        "!pip install -q sklearn \n"
      ],
      "execution_count": null,
      "outputs": []
    },
    {
      "cell_type": "code",
      "metadata": {
        "id": "bRJKWkx-U2UE"
      },
      "source": [
        "%tensorflow_version 2.x"
      ],
      "execution_count": null,
      "outputs": []
    },
    {
      "cell_type": "code",
      "metadata": {
        "id": "ceaD6PIwU9AG"
      },
      "source": [
        "from __future__ import absolute_import, division, print_function, unicode_literals \n",
        "\n",
        "import numpy as np   # numpy is very optimized version of arrays in python(allows us to do multi dimesional calcualtions.)\n",
        "import pandas as pd   #(used for many things like cut off rows or columns etc)\n",
        "import matplotlib.pyplot as plt   #(for data visulization)\n",
        "from IPython.display import clear_output  # to clear output \n",
        "from six.moves import urllib\n",
        "\n",
        "import tensorflow.compat.v2.feature_column as fc     # we need feature colum when we create linear regression.\n",
        "\n",
        "import tensorflow as tf"
      ],
      "execution_count": null,
      "outputs": []
    },
    {
      "cell_type": "markdown",
      "metadata": {
        "id": "Yr52mGADYBvY"
      },
      "source": [
        "Data \n",
        "\n",
        "Major part of machine laerning is data , the dataset we will be focusing on here is titanic dataset . it has tons of information about each passenger on the ship . "
      ]
    },
    {
      "cell_type": "markdown",
      "metadata": {
        "id": "Q73qpHKmZPK1"
      },
      "source": [
        "below we will load a dataset and learn how we can explore it using some built-in tools."
      ]
    },
    {
      "cell_type": "code",
      "metadata": {
        "colab": {
          "base_uri": "https://localhost:8080/"
        },
        "id": "1b3rgLFcZazE",
        "outputId": "01563a88-eb25-4ea7-d780-0de5f0cc88ce"
      },
      "source": [
        "# Load dataset.\n",
        "dftrain = pd.read_csv('https://storage.googleapis.com/tf-datasets/titanic/train.csv') # training data\n",
        "dfeval = pd.read_csv('https://storage.googleapis.com/tf-datasets/titanic/eval.csv') # testing data\n",
        "#print(dftrain.head())    # head() shows first 5 entries of dataset\n",
        "y_train = dftrain.pop('survived')  #.pop() will remove survived column from dftrain n put it in to y_train\n",
        "y_eval = dfeval.pop('survived')    ##.pop() will remove survived column from dftrain n put it in to y_eval\n",
        "#print(dftrain.head())\n",
        "#print(y_train)\n",
        "#print(y_eval)\n",
        "\n",
        "print(dftrain.loc[0], y_train.loc[0])   # if we want one specific dataframe we can use .loc[]"
      ],
      "execution_count": null,
      "outputs": [
        {
          "output_type": "stream",
          "name": "stdout",
          "text": [
            "sex                          male\n",
            "age                            22\n",
            "n_siblings_spouses              1\n",
            "parch                           0\n",
            "fare                         7.25\n",
            "class                       Third\n",
            "deck                      unknown\n",
            "embark_town           Southampton\n",
            "alone                           n\n",
            "Name: 0, dtype: object 0\n"
          ]
        }
      ]
    },
    {
      "cell_type": "markdown",
      "metadata": {
        "id": "TYABSTgf6iZf"
      },
      "source": [
        "to look at the data we will use .head() method from pandas ."
      ]
    },
    {
      "cell_type": "code",
      "metadata": {
        "colab": {
          "base_uri": "https://localhost:8080/",
          "height": 203
        },
        "id": "jMn7Vvty7Gn9",
        "outputId": "2eb31af6-afe7-46e1-d15c-de44570db99c"
      },
      "source": [
        "dftrain.head()"
      ],
      "execution_count": null,
      "outputs": [
        {
          "output_type": "execute_result",
          "data": {
            "text/html": [
              "<div>\n",
              "<style scoped>\n",
              "    .dataframe tbody tr th:only-of-type {\n",
              "        vertical-align: middle;\n",
              "    }\n",
              "\n",
              "    .dataframe tbody tr th {\n",
              "        vertical-align: top;\n",
              "    }\n",
              "\n",
              "    .dataframe thead th {\n",
              "        text-align: right;\n",
              "    }\n",
              "</style>\n",
              "<table border=\"1\" class=\"dataframe\">\n",
              "  <thead>\n",
              "    <tr style=\"text-align: right;\">\n",
              "      <th></th>\n",
              "      <th>sex</th>\n",
              "      <th>age</th>\n",
              "      <th>n_siblings_spouses</th>\n",
              "      <th>parch</th>\n",
              "      <th>fare</th>\n",
              "      <th>class</th>\n",
              "      <th>deck</th>\n",
              "      <th>embark_town</th>\n",
              "      <th>alone</th>\n",
              "    </tr>\n",
              "  </thead>\n",
              "  <tbody>\n",
              "    <tr>\n",
              "      <th>0</th>\n",
              "      <td>male</td>\n",
              "      <td>22.0</td>\n",
              "      <td>1</td>\n",
              "      <td>0</td>\n",
              "      <td>7.2500</td>\n",
              "      <td>Third</td>\n",
              "      <td>unknown</td>\n",
              "      <td>Southampton</td>\n",
              "      <td>n</td>\n",
              "    </tr>\n",
              "    <tr>\n",
              "      <th>1</th>\n",
              "      <td>female</td>\n",
              "      <td>38.0</td>\n",
              "      <td>1</td>\n",
              "      <td>0</td>\n",
              "      <td>71.2833</td>\n",
              "      <td>First</td>\n",
              "      <td>C</td>\n",
              "      <td>Cherbourg</td>\n",
              "      <td>n</td>\n",
              "    </tr>\n",
              "    <tr>\n",
              "      <th>2</th>\n",
              "      <td>female</td>\n",
              "      <td>26.0</td>\n",
              "      <td>0</td>\n",
              "      <td>0</td>\n",
              "      <td>7.9250</td>\n",
              "      <td>Third</td>\n",
              "      <td>unknown</td>\n",
              "      <td>Southampton</td>\n",
              "      <td>y</td>\n",
              "    </tr>\n",
              "    <tr>\n",
              "      <th>3</th>\n",
              "      <td>female</td>\n",
              "      <td>35.0</td>\n",
              "      <td>1</td>\n",
              "      <td>0</td>\n",
              "      <td>53.1000</td>\n",
              "      <td>First</td>\n",
              "      <td>C</td>\n",
              "      <td>Southampton</td>\n",
              "      <td>n</td>\n",
              "    </tr>\n",
              "    <tr>\n",
              "      <th>4</th>\n",
              "      <td>male</td>\n",
              "      <td>28.0</td>\n",
              "      <td>0</td>\n",
              "      <td>0</td>\n",
              "      <td>8.4583</td>\n",
              "      <td>Third</td>\n",
              "      <td>unknown</td>\n",
              "      <td>Queenstown</td>\n",
              "      <td>y</td>\n",
              "    </tr>\n",
              "  </tbody>\n",
              "</table>\n",
              "</div>"
            ],
            "text/plain": [
              "      sex   age  n_siblings_spouses  parch  ...  class     deck  embark_town alone\n",
              "0    male  22.0                   1      0  ...  Third  unknown  Southampton     n\n",
              "1  female  38.0                   1      0  ...  First        C    Cherbourg     n\n",
              "2  female  26.0                   0      0  ...  Third  unknown  Southampton     y\n",
              "3  female  35.0                   1      0  ...  First        C  Southampton     n\n",
              "4    male  28.0                   0      0  ...  Third  unknown   Queenstown     y\n",
              "\n",
              "[5 rows x 9 columns]"
            ]
          },
          "metadata": {},
          "execution_count": 7
        }
      ]
    },
    {
      "cell_type": "code",
      "metadata": {
        "colab": {
          "base_uri": "https://localhost:8080/",
          "height": 295
        },
        "id": "U3h8HpLH7Qum",
        "outputId": "f8f23046-ca10-49a4-d070-0555c4ee20dd"
      },
      "source": [
        "dftrain.describe()   # .describe() gives us overall information(eg mean , sd etc)"
      ],
      "execution_count": null,
      "outputs": [
        {
          "output_type": "execute_result",
          "data": {
            "text/html": [
              "<div>\n",
              "<style scoped>\n",
              "    .dataframe tbody tr th:only-of-type {\n",
              "        vertical-align: middle;\n",
              "    }\n",
              "\n",
              "    .dataframe tbody tr th {\n",
              "        vertical-align: top;\n",
              "    }\n",
              "\n",
              "    .dataframe thead th {\n",
              "        text-align: right;\n",
              "    }\n",
              "</style>\n",
              "<table border=\"1\" class=\"dataframe\">\n",
              "  <thead>\n",
              "    <tr style=\"text-align: right;\">\n",
              "      <th></th>\n",
              "      <th>age</th>\n",
              "      <th>n_siblings_spouses</th>\n",
              "      <th>parch</th>\n",
              "      <th>fare</th>\n",
              "    </tr>\n",
              "  </thead>\n",
              "  <tbody>\n",
              "    <tr>\n",
              "      <th>count</th>\n",
              "      <td>627.000000</td>\n",
              "      <td>627.000000</td>\n",
              "      <td>627.000000</td>\n",
              "      <td>627.000000</td>\n",
              "    </tr>\n",
              "    <tr>\n",
              "      <th>mean</th>\n",
              "      <td>29.631308</td>\n",
              "      <td>0.545455</td>\n",
              "      <td>0.379585</td>\n",
              "      <td>34.385399</td>\n",
              "    </tr>\n",
              "    <tr>\n",
              "      <th>std</th>\n",
              "      <td>12.511818</td>\n",
              "      <td>1.151090</td>\n",
              "      <td>0.792999</td>\n",
              "      <td>54.597730</td>\n",
              "    </tr>\n",
              "    <tr>\n",
              "      <th>min</th>\n",
              "      <td>0.750000</td>\n",
              "      <td>0.000000</td>\n",
              "      <td>0.000000</td>\n",
              "      <td>0.000000</td>\n",
              "    </tr>\n",
              "    <tr>\n",
              "      <th>25%</th>\n",
              "      <td>23.000000</td>\n",
              "      <td>0.000000</td>\n",
              "      <td>0.000000</td>\n",
              "      <td>7.895800</td>\n",
              "    </tr>\n",
              "    <tr>\n",
              "      <th>50%</th>\n",
              "      <td>28.000000</td>\n",
              "      <td>0.000000</td>\n",
              "      <td>0.000000</td>\n",
              "      <td>15.045800</td>\n",
              "    </tr>\n",
              "    <tr>\n",
              "      <th>75%</th>\n",
              "      <td>35.000000</td>\n",
              "      <td>1.000000</td>\n",
              "      <td>0.000000</td>\n",
              "      <td>31.387500</td>\n",
              "    </tr>\n",
              "    <tr>\n",
              "      <th>max</th>\n",
              "      <td>80.000000</td>\n",
              "      <td>8.000000</td>\n",
              "      <td>5.000000</td>\n",
              "      <td>512.329200</td>\n",
              "    </tr>\n",
              "  </tbody>\n",
              "</table>\n",
              "</div>"
            ],
            "text/plain": [
              "              age  n_siblings_spouses       parch        fare\n",
              "count  627.000000          627.000000  627.000000  627.000000\n",
              "mean    29.631308            0.545455    0.379585   34.385399\n",
              "std     12.511818            1.151090    0.792999   54.597730\n",
              "min      0.750000            0.000000    0.000000    0.000000\n",
              "25%     23.000000            0.000000    0.000000    7.895800\n",
              "50%     28.000000            0.000000    0.000000   15.045800\n",
              "75%     35.000000            1.000000    0.000000   31.387500\n",
              "max     80.000000            8.000000    5.000000  512.329200"
            ]
          },
          "metadata": {},
          "execution_count": 57
        }
      ]
    },
    {
      "cell_type": "code",
      "metadata": {
        "colab": {
          "base_uri": "https://localhost:8080/"
        },
        "id": "HbwmAtwE7epk",
        "outputId": "e98adcff-ddd6-477b-8292-fad441a16593"
      },
      "source": [
        "dftrain.shape # which means we have 627 rows and columns "
      ],
      "execution_count": null,
      "outputs": [
        {
          "output_type": "execute_result",
          "data": {
            "text/plain": [
              "(627, 9)"
            ]
          },
          "metadata": {},
          "execution_count": 58
        }
      ]
    },
    {
      "cell_type": "code",
      "metadata": {
        "colab": {
          "base_uri": "https://localhost:8080/"
        },
        "id": "QCB2jMDl7v6Y",
        "outputId": "4c97d902-c1d6-4d57-8d2b-12956dad8b80"
      },
      "source": [
        "# survival information \n",
        "y_train.head()"
      ],
      "execution_count": null,
      "outputs": [
        {
          "output_type": "execute_result",
          "data": {
            "text/plain": [
              "0    0\n",
              "1    1\n",
              "2    1\n",
              "3    1\n",
              "4    0\n",
              "Name: survived, dtype: int64"
            ]
          },
          "metadata": {},
          "execution_count": 8
        }
      ]
    },
    {
      "cell_type": "markdown",
      "metadata": {
        "id": "kkahUE5C7-5_"
      },
      "source": [
        "few graps of the data"
      ]
    },
    {
      "cell_type": "code",
      "metadata": {
        "colab": {
          "base_uri": "https://localhost:8080/",
          "height": 282
        },
        "id": "MBkjcpVf8CIF",
        "outputId": "9e35ede4-89f5-4b97-c272-132a740f4797"
      },
      "source": [
        "dftrain.age.hist(bins=20)"
      ],
      "execution_count": null,
      "outputs": [
        {
          "output_type": "execute_result",
          "data": {
            "text/plain": [
              "<matplotlib.axes._subplots.AxesSubplot at 0x7f652cfed850>"
            ]
          },
          "metadata": {},
          "execution_count": 9
        },
        {
          "output_type": "display_data",
          "data": {
            "image/png": "[encoded data removed]",
            "text/plain": [
              "<Figure size 432x288 with 1 Axes>"
            ]
          },
          "metadata": {
            "needs_background": "light"
          }
        }
      ]
    },
    {
      "cell_type": "code",
      "metadata": {
        "colab": {
          "base_uri": "https://localhost:8080/",
          "height": 307
        },
        "id": "XH_UI-Gg8Wim",
        "outputId": "f657e13e-9bd2-4a3c-ae0c-ac637f0d3239"
      },
      "source": [
        "dftrain.sex.value_counts().plot(kind='bar')"
      ],
      "execution_count": null,
      "outputs": [
        {
          "output_type": "execute_result",
          "data": {
            "text/plain": [
              "<matplotlib.axes._subplots.AxesSubplot at 0x7f652e3687d0>"
            ]
          },
          "metadata": {},
          "execution_count": 10
        },
        {
          "output_type": "display_data",
          "data": {
            "image/png": "[encoded data removed]",
            "text/plain": [
              "<Figure size 432x288 with 1 Axes>"
            ]
          },
          "metadata": {
            "needs_background": "light"
          }
        }
      ]
    },
    {
      "cell_type": "code",
      "metadata": {
        "colab": {
          "base_uri": "https://localhost:8080/",
          "height": 321
        },
        "id": "_mvDgNx58TWJ",
        "outputId": "f58125d0-3fa3-458a-897b-12a0d8524550"
      },
      "source": [
        "pd.concat([dftrain,y_train],axis=1).groupby('sex').survived.mean().plot(kind='bar').set_xlabel(' % survive')"
      ],
      "execution_count": null,
      "outputs": [
        {
          "output_type": "execute_result",
          "data": {
            "text/plain": [
              "Text(0.5, 0, ' % survive')"
            ]
          },
          "metadata": {},
          "execution_count": 11
        },
        {
          "output_type": "display_data",
          "data": {
            "image/png": "[encoded data removed]",
            "text/plain": [
              "<Figure size 432x288 with 1 Axes>"
            ]
          },
          "metadata": {
            "needs_background": "light"
          }
        }
      ]
    },
    {
      "cell_type": "code",
      "metadata": {
        "colab": {
          "base_uri": "https://localhost:8080/"
        },
        "id": "x4GMiGgO9TCs",
        "outputId": "e8c221b1-3e5b-40e3-b46d-2225121b8cd7"
      },
      "source": [
        "dfeval.shape"
      ],
      "execution_count": null,
      "outputs": [
        {
          "output_type": "execute_result",
          "data": {
            "text/plain": [
              "(264, 9)"
            ]
          },
          "metadata": {},
          "execution_count": 65
        }
      ]
    },
    {
      "cell_type": "code",
      "metadata": {
        "colab": {
          "base_uri": "https://localhost:8080/"
        },
        "id": "KODSpUE0-Y_2",
        "outputId": "fb455ea5-4eb4-48d2-b4d2-eed75ba77e65"
      },
      "source": [
        "dftrain = pd.read_csv('https://storage.googleapis.com/tf-datasets/titanic/train.csv') # training data\n",
        "dfeval = pd.read_csv('https://storage.googleapis.com/tf-datasets/titanic/eval.csv') # testing data\n",
        "#print(dftrain.head())    # head() shows first 5 entries of dataset\n",
        "y_train = dftrain.pop('survived')  #.pop() will remove survived column from dftrain n put it in to y_train\n",
        "y_eval = dfeval.pop('survived')    ##.pop() will remove survived column from dftrain n put it in to y_eval\n",
        "\n",
        "\n",
        "\n",
        "CATEGORICAL_COLUMNS = ['sex', 'n_siblings_spouses', 'parch', 'class', 'deck',\n",
        "                       'embark_town', 'alone']\n",
        "NUMERIC_COLUMNS = ['age', 'fare']\n",
        "\n",
        "feature_columns = []\n",
        "for feature_name in CATEGORICAL_COLUMNS:\n",
        "  vocabulary = dftrain[feature_name].unique()  # gets a list of all unique values from given feature column\n",
        "  feature_columns.append(tf.feature_column.categorical_column_with_vocabulary_list(feature_name, vocabulary))    #  we need to feature columns for linear regression.\n",
        "\n",
        "for feature_name in NUMERIC_COLUMNS:\n",
        "  feature_columns.append(tf.feature_column.numeric_column(feature_name, dtype=tf.float32))\n",
        "\n",
        "print(feature_columns)"
      ],
      "execution_count": null,
      "outputs": [
        {
          "output_type": "stream",
          "name": "stdout",
          "text": [
            "[VocabularyListCategoricalColumn(key='sex', vocabulary_list=('male', 'female'), dtype=tf.string, default_value=-1, num_oov_buckets=0), VocabularyListCategoricalColumn(key='n_siblings_spouses', vocabulary_list=(1, 0, 3, 4, 2, 5, 8), dtype=tf.int64, default_value=-1, num_oov_buckets=0), VocabularyListCategoricalColumn(key='parch', vocabulary_list=(0, 1, 2, 5, 3, 4), dtype=tf.int64, default_value=-1, num_oov_buckets=0), VocabularyListCategoricalColumn(key='class', vocabulary_list=('Third', 'First', 'Second'), dtype=tf.string, default_value=-1, num_oov_buckets=0), VocabularyListCategoricalColumn(key='deck', vocabulary_list=('unknown', 'C', 'G', 'A', 'B', 'D', 'F', 'E'), dtype=tf.string, default_value=-1, num_oov_buckets=0), VocabularyListCategoricalColumn(key='embark_town', vocabulary_list=('Southampton', 'Cherbourg', 'Queenstown', 'unknown'), dtype=tf.string, default_value=-1, num_oov_buckets=0), VocabularyListCategoricalColumn(key='alone', vocabulary_list=('n', 'y'), dtype=tf.string, default_value=-1, num_oov_buckets=0), NumericColumn(key='age', shape=(1,), default_value=None, dtype=tf.float32, normalizer_fn=None), NumericColumn(key='fare', shape=(1,), default_value=None, dtype=tf.float32, normalizer_fn=None)]\n"
          ]
        }
      ]
    },
    {
      "cell_type": "code",
      "metadata": {
        "colab": {
          "base_uri": "https://localhost:8080/"
        },
        "id": "2tITrEbbCHI4",
        "outputId": "611dc7a1-200f-49f5-c557-006c62e82394"
      },
      "source": [
        "dftrain[feature_name].unique() "
      ],
      "execution_count": null,
      "outputs": [
        {
          "output_type": "execute_result",
          "data": {
            "text/plain": [
              "array([  7.25  ,  71.2833,   7.925 ,  53.1   ,   8.4583,  21.075 ,\n",
              "        11.1333,  30.0708,  16.7   ,   8.05  ,  31.275 ,   7.8542,\n",
              "        29.125 ,  13.    ,  18.    ,   7.225 ,  26.    ,  35.5   ,\n",
              "        31.3875, 263.    ,   7.8792,   7.8958,  27.7208, 146.5208,\n",
              "         7.75  ,  10.5   ,  82.1708,  52.    ,   7.2292,  11.2417,\n",
              "         9.475 ,  21.    ,  41.5792,  15.5   ,  21.6792,  17.8   ,\n",
              "        39.6875,  76.7292,  61.9792,  46.9   ,  80.    ,  83.475 ,\n",
              "        27.9   ,  15.2458,   8.1583,   8.6625,  73.5   ,  56.4958,\n",
              "         7.65  ,  29.    ,  12.475 ,   9.    ,   9.5   ,   7.7875,\n",
              "        47.1   ,  34.375 ,  61.175 ,  34.6542,  63.3583,  23.    ,\n",
              "        77.2875,   8.6542,   7.775 ,  24.15  ,  14.4542,  14.4583,\n",
              "       247.5208,   7.1417,   6.975 ,   7.05  ,  14.5   ,  15.0458,\n",
              "        26.2833,   9.2167,  79.2   ,   6.75  ,  11.5   ,  12.525 ,\n",
              "         7.3125,  61.3792,   7.7333,  69.55  ,  16.1   ,  55.    ,\n",
              "        25.4667,  28.7125,   0.    ,  15.05  ,  22.025 ,  26.55  ,\n",
              "         6.4958,  10.4625,  15.85  ,  18.7875,  31.    , 113.275 ,\n",
              "        27.    ,   9.35  ,  13.5   ,   7.55  ,  12.275 ,   7.125 ,\n",
              "        90.    ,  20.2125, 512.3292, 153.4625, 135.6333,  19.5   ,\n",
              "        29.7   ,  77.9583,  20.25  ,  78.85  ,  12.875 ,  30.5   ,\n",
              "        12.35  , 110.8833, 108.9   ,  24.    ,  56.9292,  83.1583,\n",
              "       262.375 ,  26.25  , 164.8667, 134.5   ,   6.2375,  20.525 ,\n",
              "        23.25  , 133.65  ,  66.6   ,  75.25  ,  69.3   , 211.5   ,\n",
              "       227.525 ,   7.7292,  12.    , 120.    ,   7.7958,  18.75  ,\n",
              "         6.8583,  32.5   ,  55.9   ,   8.1125,  19.2583,  27.75  ,\n",
              "        89.1042,  51.8625,  38.5   ,   7.725 ,  13.7917,   7.0458,\n",
              "        12.2875,   9.5875,  91.0792,  15.9   ,  19.9667,  49.5042,\n",
              "       151.55  ,  59.4   ,   7.4958,  34.0208,  93.5   ,  57.9792,\n",
              "       221.7792,  22.3583, 106.425 ,  49.5   ,  71.    ,  13.8625,\n",
              "         7.8292,  39.6   ,  79.65  ,  17.4   ,  51.4792,  26.3875,\n",
              "        30.    ,  40.125 ,  15.    ,  78.2667,  33.    ,  15.55  ,\n",
              "        65.    ,  14.4   ,  15.7417,  32.3208,   7.0542,   8.4333,\n",
              "        25.5875,  39.    ,   9.8417,   9.225 ,  10.1708, 211.3375,\n",
              "        57.    ,  13.4167,  26.2875,   7.7417,   9.4833,   8.3625,\n",
              "        23.45  ,  20.575 ,  30.6958,  25.9292,   8.6833,   7.8875,\n",
              "        37.0042,   6.95  ,   8.3   ,   6.4375,  39.4   ,  14.1083,\n",
              "        13.8583,  50.4958,  52.5542,   5.    ,   9.8458,  10.5167])"
            ]
          },
          "metadata": {},
          "execution_count": 13
        }
      ]
    },
    {
      "cell_type": "code",
      "metadata": {
        "colab": {
          "base_uri": "https://localhost:8080/"
        },
        "id": "DGqGb6mUEb-V",
        "outputId": "afe63d4a-c68e-4b89-cd65-cba7967f254e"
      },
      "source": [
        "dftrain[\"sex\"].unique() "
      ],
      "execution_count": null,
      "outputs": [
        {
          "output_type": "execute_result",
          "data": {
            "text/plain": [
              "array(['male', 'female'], dtype=object)"
            ]
          },
          "metadata": {},
          "execution_count": 81
        }
      ]
    },
    {
      "cell_type": "code",
      "metadata": {
        "colab": {
          "base_uri": "https://localhost:8080/"
        },
        "id": "AqRmccVFEv7k",
        "outputId": "fa803fad-32c6-4137-8411-5e3e73d535c3"
      },
      "source": [
        "\n",
        "dftrain[\"embark_town\"].unique()"
      ],
      "execution_count": null,
      "outputs": [
        {
          "output_type": "execute_result",
          "data": {
            "text/plain": [
              "array(['Southampton', 'Cherbourg', 'Queenstown', 'unknown'], dtype=object)"
            ]
          },
          "metadata": {},
          "execution_count": 14
        }
      ]
    },
    {
      "cell_type": "markdown",
      "metadata": {
        "id": "Dy0aHe_LaueV"
      },
      "source": [
        "THE TRAINING PROCESS \n",
        "\n",
        "TRAINING is how input data is fed to our model . For specific model data is going to be streamed into it in small batches of 32. this means we will not feed the entire dataset to our model at once , but simply small batches of entries . we will actually feed these batches to our model multiple times according to the number of \"epochs\".\n",
        "An epoch is simply one stream of our dataset. the number of epochs we define is the amount of times our model will see the entire dataset . we use multpile epochs in hope that after seeing the same data multiple times the model will better determine how to estimate it.\n",
        "\n",
        "ex. if we have 10 epochs , our model will see dataset 10 times.\n",
        "\n",
        "since we need to feed our data into batches and multiple times we need to create something called an input function . The input function simply defines how our dataset will be convetred into batches at each epoch ."
      ]
    },
    {
      "cell_type": "markdown",
      "metadata": {
        "id": "TPxX6FrVdoNE"
      },
      "source": [
        "INPUT FUNCTION:\n",
        "\n",
        "the tensorflow flow model we are going to use requires that the data we pass it comes in as a \"tf.data.dataset\" object . this means we must create a input function that can convert our current panads dataframe into that object .\n"
      ]
    },
    {
      "cell_type": "code",
      "metadata": {
        "id": "kLRG3-mueLPg"
      },
      "source": [
        " def make_input_fn(data_df, label_df, num_epochs=10, shuffle=True, batch_size=32):    #data_df is pandas dataframe (our labeled data frame for labels like eval etc.)\n",
        "  def input_function():  # inner function, this will be returned\n",
        "    ds = tf.data.Dataset.from_tensor_slices((dict(data_df), label_df))  # create tf.data.Dataset object with data and its label\n",
        "    if shuffle:\n",
        "      ds = ds.shuffle(1000)  # randomize order of data\n",
        "    ds = ds.batch(batch_size).repeat(num_epochs)  # split dataset into batches of 32 and repeat process for number of epochs\n",
        "    return ds  # return a batch of the dataset\n",
        "  return input_function  # return a function object for use\n",
        "\n",
        "train_input_fn = make_input_fn(dftrain, y_train)  # here we will call the input_function that was returned to us to get a dataset object we can feed to the model\n",
        "eval_input_fn = make_input_fn(dfeval, y_eval, num_epochs=1,shuffle=False) # we dont need to shuffle the data because we are not training it."
      ],
      "execution_count": null,
      "outputs": []
    },
    {
      "cell_type": "markdown",
      "metadata": {
        "id": "jQJmUywMhRUc"
      },
      "source": [
        "creating a model :\n",
        "\n"
      ]
    },
    {
      "cell_type": "code",
      "metadata": {
        "colab": {
          "base_uri": "https://localhost:8080/"
        },
        "id": "-51N-gGVhVJ5",
        "outputId": "c0e38db7-578e-431b-fdf0-753dd0544114"
      },
      "source": [
        " def make_input_fn(data_df, label_df, num_epochs=10, shuffle=True, batch_size=32):    #data_df is pandas dataframe (our labeled data frame for labels like eval etc.)\n",
        "  def input_function():  # inner function, this will be returned\n",
        "    ds = tf.data.Dataset.from_tensor_slices((dict(data_df), label_df))  # create tf.data.Dataset object with data and its label\n",
        "    if shuffle:\n",
        "      ds = ds.shuffle(1000)  # randomize order of data\n",
        "    ds = ds.batch(batch_size).repeat(num_epochs)  # split dataset into batches of 32 and repeat process for number of epochs\n",
        "    return ds  # return a batch of the dataset\n",
        "  return input_function  # return a function object for use\n",
        "\n",
        "train_input_fn = make_input_fn(dftrain, y_train)  # here we will call the input_function that was returned to us to get a dataset object we can feed to the model\n",
        "eval_input_fn = make_input_fn(dfeval, y_eval, num_epochs=1,shuffle=False) # we dont need to shuffle the data because we are not training it.\n",
        "\n",
        "linear_est = tf.estimator.LinearClassifier(feature_columns=feature_columns)\n",
        "# We create a linear estimtor by passing the\n",
        "\n",
        "linear_est = tf.estimator.LinearClassifier(feature_columns=feature_columns)\n",
        "\n",
        "linear_est.train(train_input_fn) # train\n",
        "result = linear_est.evaluate(eval_input_fn) # get model metrices/stats by testinh on testing data\n",
        "\n",
        "clear_output() #clears consoke output\n",
        "print(result['accuracy']) \n",
        "print(result)"
      ],
      "execution_count": null,
      "outputs": [
        {
          "output_type": "stream",
          "name": "stdout",
          "text": [
            "0.7310606\n",
            "{'accuracy': 0.7310606, 'accuracy_baseline': 0.625, 'auc': 0.8165902, 'auc_precision_recall': 0.77211064, 'average_loss': 0.5815264, 'label/mean': 0.375, 'loss': 0.581732, 'precision': 0.6076923, 'prediction/mean': 0.53548986, 'recall': 0.7979798, 'global_step': 200}\n"
          ]
        }
      ]
    },
    {
      "cell_type": "code",
      "metadata": {
        "colab": {
          "base_uri": "https://localhost:8080/"
        },
        "id": "Wr9zCLYIkfQ3",
        "outputId": "7507c4c3-0299-4fda-b795-af95319553dd"
      },
      "source": [
        "result =  list(linear_est.predict(eval_input_fn))\n",
        "print(dfeval.loc[2])\n",
        "print(y_eval.loc[2])\n",
        "print(result[2]['probabilities'][1])  #p-> [1]  surviving and [0] is not surviving "
      ],
      "execution_count": null,
      "outputs": [
        {
          "output_type": "stream",
          "name": "stdout",
          "text": [
            "INFO:tensorflow:Calling model_fn.\n"
          ]
        },
        {
          "output_type": "stream",
          "name": "stderr",
          "text": [
            "/usr/local/lib/python3.7/dist-packages/keras/engine/base_layer_v1.py:1684: UserWarning: `layer.add_variable` is deprecated and will be removed in a future version. Please use `layer.add_weight` method instead.\n",
            "  warnings.warn('`layer.add_variable` is deprecated and '\n"
          ]
        },
        {
          "output_type": "stream",
          "name": "stdout",
          "text": [
            "INFO:tensorflow:Done calling model_fn.\n",
            "INFO:tensorflow:Graph was finalized.\n",
            "INFO:tensorflow:Restoring parameters from /tmp/tmpbxhd9xj6/model.ckpt-200\n",
            "INFO:tensorflow:Running local_init_op.\n",
            "INFO:tensorflow:Done running local_init_op.\n",
            "sex                        female\n",
            "age                            58\n",
            "n_siblings_spouses              0\n",
            "parch                           0\n",
            "fare                        26.55\n",
            "class                       First\n",
            "deck                            C\n",
            "embark_town           Southampton\n",
            "alone                           y\n",
            "Name: 2, dtype: object\n",
            "1\n",
            "0.9323224\n"
          ]
        }
      ]
    }
  ]
}